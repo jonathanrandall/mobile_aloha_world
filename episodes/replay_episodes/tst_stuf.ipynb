{
 "cells": [
  {
   "cell_type": "code",
   "execution_count": 8,
   "metadata": {},
   "outputs": [
    {
     "name": "stdout",
     "output_type": "stream",
     "text": [
      "3\n",
      "4\n",
      "Original Array:\n",
      "[[1 2 3]\n",
      " [4 5 6]\n",
      " [7 8 9]]\n",
      "Padded Array:\n",
      "[[1 2 3]\n",
      " [4 5 6]\n",
      " [7 8 9]\n",
      " [0 0 0]]\n",
      "[1 2 3]\n",
      "[1 2 3]\n",
      "[4 5 6]\n",
      "[4 5 6]\n",
      "[7 8 9]\n",
      "[7 8 9]\n"
     ]
    }
   ],
   "source": [
    "import numpy as np\n",
    "\n",
    "\n",
    "\n",
    "# Example 2D NumPy array\n",
    "arr = np.array([[1, 2, 3],\n",
    "                [4, 5, 6],\n",
    "                [7, 8, 9]])\n",
    "\n",
    "# Get the shape of the array\n",
    "original_shape = arr.shape\n",
    "\n",
    "# Pad out the array with the final column\n",
    "padded_arr = np.pad(arr, ((0, 1), (0, 0)), mode='constant')\n",
    "\n",
    "print(original_shape[0])\n",
    "print(padded_arr.shape[0])\n",
    "\n",
    "print(\"Original Array:\")\n",
    "print(arr)\n",
    "print(\"Padded Array:\")\n",
    "print(padded_arr)\n",
    "\n",
    "for i, action in enumerate(arr):\n",
    "    print(action)\n",
    "    print(padded_arr[i,:])"
   ]
  },
  {
   "cell_type": "code",
   "execution_count": 1,
   "metadata": {},
   "outputs": [],
   "source": [
    "esp32 = \"http://192.168.1.182\"\n",
    "\n",
    "import requests\n",
    "\n"
   ]
  },
  {
   "cell_type": "code",
   "execution_count": 2,
   "metadata": {},
   "outputs": [],
   "source": [
    "import os\n",
    "import numpy as np\n",
    "import cv2\n",
    "import h5py\n",
    "import argparse\n",
    "import time\n",
    "from visualize_episodes import visualize_joints, visualize_timestamp, save_videos\n",
    "\n",
    "import matplotlib.pyplot as plt\n",
    "from constants import DT\n",
    "\n",
    "import IPython\n",
    "e = IPython.embed\n",
    "\n",
    "JOINT_NAMES = [\"waist\", \"shoulder\", \"elbow\", \"forearm_roll\", \"wrist_angle\", \"wrist_rotate\"]\n",
    "STATE_NAMES = JOINT_NAMES + [\"gripper\"]\n",
    "\n",
    "MIRROR_STATE_MULTIPLY = np.array([-1, 1, 1, -1, 1, -1, 1]).astype('float32')\n",
    "MIRROR_BASE_MULTIPLY = np.array([1, -1]).astype('float32')\n",
    "\n",
    "def load_hdf5(dataset_dir, dataset_name):\n",
    "    dataset_path = os.path.join(dataset_dir, dataset_name + '.hdf5')\n",
    "    if not os.path.isfile(dataset_path):\n",
    "        print(f'Dataset does not exist at \\n{dataset_path}\\n')\n",
    "        exit()\n",
    "\n",
    "    with h5py.File(dataset_path, 'r') as root:\n",
    "        is_sim = root.attrs['sim']\n",
    "        compressed = root.attrs.get('compress', False)\n",
    "        qpos = root['/observations/qpos'][()]\n",
    "        # qvel = root['/observations/qvel'][()]\n",
    "        action = root['/action'][()]\n",
    "        image_dict = dict()\n",
    "        for cam_name in root[f'/observations/images/'].keys():\n",
    "            image_dict[cam_name] = root[f'/observations/images/{cam_name}'][()]\n",
    "        if 'base_action' in root.keys():\n",
    "            print('base_action exists')\n",
    "            base_action = root['/base_action'][()]\n",
    "        else:\n",
    "            base_action = None\n",
    "        if compressed:\n",
    "            compress_len = root['/compress_len'][()]\n",
    "\n",
    "    if compressed:\n",
    "        for cam_id, cam_name in enumerate(image_dict.keys()):\n",
    "            # un-pad and uncompress\n",
    "            padded_compressed_image_list = image_dict[cam_name]\n",
    "            image_list = []\n",
    "            for padded_compressed_image in padded_compressed_image_list: # [:1000] to save memory\n",
    "                image = cv2.imdecode(padded_compressed_image, 1)\n",
    "                image_list.append(image)\n",
    "            image_dict[cam_name] = np.array(image_list)\n",
    "\n",
    "    return qpos, action, base_action, image_dict, is_sim"
   ]
  },
  {
   "cell_type": "code",
   "execution_count": 4,
   "metadata": {},
   "outputs": [],
   "source": [
    "data_dir = \"/home/jonny/projects/mobile_aloha_world/episodes/task1\"\n",
    "dataset_name = 'episode_1'"
   ]
  },
  {
   "cell_type": "code",
   "execution_count": 7,
   "metadata": {},
   "outputs": [
    {
     "name": "stdout",
     "output_type": "stream",
     "text": [
      "base_action exists\n"
     ]
    }
   ],
   "source": [
    "qpos,  action, base_action, image_dict, is_sim = load_hdf5(data_dir, dataset_name)\n",
    "\n",
    "        # process proprioception\n",
    "qpos = np.array(qpos).astype('int32') #np.concatenate([qpos[:, 7:] * MIRROR_STATE_MULTIPLY, qpos[:, :7] * MIRROR_STATE_MULTIPLY], axis=1)\n",
    "# qvel = np.concatenate([qvel[:, 7:] * MIRROR_STATE_MULTIPLY, qvel[:, :7] * MIRROR_STATE_MULTIPLY], axis=1)\n",
    "action = np.array(action).astype('int32')  #np.concatenate([action[:, 7:] * MIRROR_STATE_MULTIPLY, action[:, :7] * MIRROR_STATE_MULTIPLY], axis=1)\n",
    "if base_action is not None:\n",
    "    base_action = np.array(base_action).astype('int32') #* MIRROR_BASE_MULTIPLY\n",
    "    while (base_action.shape[0] < action.shape[0]):\n",
    "        #pad out array\n",
    "        base_action=np.pad(base_action, ((0, 1), (0, 0)), mode='constant')"
   ]
  },
  {
   "cell_type": "code",
   "execution_count": 8,
   "metadata": {},
   "outputs": [],
   "source": [
    "#change from rgb to bgr\n",
    "image_dict['top'] = image_dict['top'][:, :, ::-1]\n",
    "image_dict['base'] = image_dict['base'][:, :, ::-1]\n"
   ]
  },
  {
   "cell_type": "code",
   "execution_count": 10,
   "metadata": {},
   "outputs": [],
   "source": [
    "data_dict = {\n",
    "    '/observations/qpos': qpos,\n",
    "    # '/observations/qvel': qvel,\n",
    "    '/action': action,\n",
    "    '/base_action': base_action,\n",
    "} if base_action is not None else {\n",
    "    '/observations/qpos': qpos,\n",
    "    # '/observations/qvel': qvel,\n",
    "    '/action': action,\n",
    "}\n",
    "for cam_name in image_dict.keys():\n",
    "    if 'base' in image_dict.keys():\n",
    "        data_dict[f'/observations/images/{cam_name}'] = image_dict[cam_name]\n",
    "max_timesteps = len(qpos)\n",
    "\n",
    "COMPRESS = True\n"
   ]
  },
  {
   "cell_type": "code",
   "execution_count": 24,
   "metadata": {},
   "outputs": [
    {
     "name": "stdout",
     "output_type": "stream",
     "text": [
      "146\n",
      "146\n",
      "compression: 0.36s\n"
     ]
    }
   ],
   "source": [
    "t0 = time.time()\n",
    "encode_param = [int(cv2.IMWRITE_JPEG_QUALITY), 50] # tried as low as 20, seems fine\n",
    "compressed_len = []\n",
    "for cam_name in image_dict.keys():\n",
    "    image_list = data_dict[f'/observations/images/{cam_name}']\n",
    "    print(len(image_list))\n",
    "    compressed_list = []\n",
    "    compressed_len.append([])\n",
    "    for image in image_list:\n",
    "        result, encoded_image = cv2.imencode('.jpg', image, encode_param) # 0.02 sec # cv2.imdecode(encoded_image, 1)\n",
    "        compressed_list.append(encoded_image)\n",
    "        compressed_len[-1].append(len(encoded_image))\n",
    "    data_dict[f'/observations/images/{cam_name}'] = compressed_list\n",
    "print(f'compression: {time.time() - t0:.2f}s')\n",
    "\n",
    "# pad so it has same length\n",
    "t0 = time.time()\n"
   ]
  },
  {
   "cell_type": "code",
   "execution_count": 21,
   "metadata": {},
   "outputs": [
    {
     "name": "stdout",
     "output_type": "stream",
     "text": [
      "[[5625, 5599, 5624, 5609, 5563, 5362, 5599, 5804, 5588, 5791, 6029, 5721, 5844, 6083, 6045, 6084, 6089, 5933, 6059, 6070, 6057, 6095, 6181, 6174, 6096, 6246, 6057, 6016, 6134, 6141, 6079, 6049, 6159, 6373, 6355, 6867, 6859, 6911, 6916, 7143, 7153, 7195, 7111, 7017, 6825, 6784, 6913, 6823, 6789, 6646, 6725, 8159, 8280, 8323, 8367, 8383, 8497, 9173, 9222, 8966, 9162, 8147, 7413, 6852, 5907, 5047, 5061, 4916, 5087, 5092, 5101, 4914, 5009, 4938, 5136, 4942, 5083, 5124, 4964, 5115, 5114, 5133, 5002, 7331, 9316, 9447, 9215, 9152, 9145, 8089, 7743, 7058, 7615, 7476, 7917, 7864, 7928, 7599, 7155, 7612, 7847, 7737, 8001, 8065, 8053, 8153, 8277, 8189, 7791, 7772, 7953, 8045, 8052, 8184, 8207, 7672, 7364, 7198, 6545, 6518, 6517, 6431, 6528, 6352, 6341, 6294, 6468, 6506, 6542, 6486, 6477, 6017, 5904, 6043, 6164, 5747, 5935, 5939, 6038, 5996, 5977, 5984, 5987, 5948, 6027, 5992], [48206, 48359, 48081, 48083, 48172, 48766, 47008, 48065, 47097, 46591, 46712, 46461, 46566, 46593, 45769, 46507, 46183, 46046, 46010, 45982, 46001, 45832, 46077, 45970, 45984, 46053, 46106, 45921, 45788, 45905, 45947, 45849, 45848, 46001, 46041, 46015, 46125, 46163, 46076, 45922, 45959, 46224, 46044, 45794, 46637, 46122, 46383, 46650, 46392, 46414, 46434, 46524, 46451, 46549, 46386, 46290, 46291, 46286, 46546, 46306, 46284, 46427, 46101, 45910, 46228, 46215, 46367, 46131, 46037, 46217, 45971, 46411, 46367, 46192, 46467, 46585, 46477, 46747, 46559, 46656, 46658, 46651, 46522, 46699, 46657, 46559, 46616, 46572, 46648, 46810, 46596, 46608, 46359, 46790, 46482, 46553, 46427, 46460, 46552, 46446, 46583, 46649, 46628, 46669, 46709, 46646, 46632, 46560, 46641, 46511, 46416, 46610, 46632, 46325, 46477, 46504, 46636, 46630, 46572, 46392, 46539, 46456, 46346, 46377, 46517, 46718, 46498, 46770, 46917, 46801, 46814, 46584, 45617, 45921, 46080, 47865, 48574, 49488, 48849, 48666, 49451, 48227, 48804, 48819, 48821, 49086]]\n"
     ]
    }
   ],
   "source": [
    "print(compressed_len)"
   ]
  },
  {
   "cell_type": "code",
   "execution_count": 23,
   "metadata": {},
   "outputs": [
    {
     "name": "stdout",
     "output_type": "stream",
     "text": [
      "[[ 5625  5599  5624  5609  5563  5362  5599  5804  5588  5791  6029  5721\n",
      "   5844  6083  6045  6084  6089  5933  6059  6070  6057  6095  6181  6174\n",
      "   6096  6246  6057  6016  6134  6141  6079  6049  6159  6373  6355  6867\n",
      "   6859  6911  6916  7143  7153  7195  7111  7017  6825  6784  6913  6823\n",
      "   6789  6646  6725  8159  8280  8323  8367  8383  8497  9173  9222  8966\n",
      "   9162  8147  7413  6852  5907  5047  5061  4916  5087  5092  5101  4914\n",
      "   5009  4938  5136  4942  5083  5124  4964  5115  5114  5133  5002  7331\n",
      "   9316  9447  9215  9152  9145  8089  7743  7058  7615  7476  7917  7864\n",
      "   7928  7599  7155  7612  7847  7737  8001  8065  8053  8153  8277  8189\n",
      "   7791  7772  7953  8045  8052  8184  8207  7672  7364  7198  6545  6518\n",
      "   6517  6431  6528  6352  6341  6294  6468  6506  6542  6486  6477  6017\n",
      "   5904  6043  6164  5747  5935  5939  6038  5996  5977  5984  5987  5948\n",
      "   6027  5992]\n",
      " [48206 48359 48081 48083 48172 48766 47008 48065 47097 46591 46712 46461\n",
      "  46566 46593 45769 46507 46183 46046 46010 45982 46001 45832 46077 45970\n",
      "  45984 46053 46106 45921 45788 45905 45947 45849 45848 46001 46041 46015\n",
      "  46125 46163 46076 45922 45959 46224 46044 45794 46637 46122 46383 46650\n",
      "  46392 46414 46434 46524 46451 46549 46386 46290 46291 46286 46546 46306\n",
      "  46284 46427 46101 45910 46228 46215 46367 46131 46037 46217 45971 46411\n",
      "  46367 46192 46467 46585 46477 46747 46559 46656 46658 46651 46522 46699\n",
      "  46657 46559 46616 46572 46648 46810 46596 46608 46359 46790 46482 46553\n",
      "  46427 46460 46552 46446 46583 46649 46628 46669 46709 46646 46632 46560\n",
      "  46641 46511 46416 46610 46632 46325 46477 46504 46636 46630 46572 46392\n",
      "  46539 46456 46346 46377 46517 46718 46498 46770 46917 46801 46814 46584\n",
      "  45617 45921 46080 47865 48574 49488 48849 48666 49451 48227 48804 48819\n",
      "  48821 49086]]\n",
      "49488\n"
     ]
    }
   ],
   "source": [
    "compressed_len = np.array(compressed_len)\n",
    "print(compressed_len)\n",
    "padded_size = compressed_len.max()\n",
    "print(padded_size)"
   ]
  },
  {
   "cell_type": "code",
   "execution_count": 14,
   "metadata": {},
   "outputs": [
    {
     "data": {
      "text/plain": [
       "30403"
      ]
     },
     "execution_count": 14,
     "metadata": {},
     "output_type": "execute_result"
    }
   ],
   "source": [
    "len(encoded_image)"
   ]
  },
  {
   "cell_type": "code",
   "execution_count": 19,
   "metadata": {},
   "outputs": [
    {
     "name": "stdout",
     "output_type": "stream",
     "text": [
      "[[]]\n",
      "[[3]]\n"
     ]
    }
   ],
   "source": [
    "tmp=[]\n",
    "tmp.append([])\n",
    "print(tmp)\n",
    "tmp[-1].append(3)\n",
    "print(tmp)"
   ]
  },
  {
   "cell_type": "code",
   "execution_count": null,
   "metadata": {},
   "outputs": [],
   "source": []
  }
 ],
 "metadata": {
  "kernelspec": {
   "display_name": "Python 3",
   "language": "python",
   "name": "python3"
  },
  "language_info": {
   "codemirror_mode": {
    "name": "ipython",
    "version": 3
   },
   "file_extension": ".py",
   "mimetype": "text/x-python",
   "name": "python",
   "nbconvert_exporter": "python",
   "pygments_lexer": "ipython3",
   "version": "3.10.12"
  }
 },
 "nbformat": 4,
 "nbformat_minor": 2
}
